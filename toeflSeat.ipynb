{
 "cells": [
  {
   "cell_type": "code",
   "execution_count": 48,
   "metadata": {},
   "outputs": [],
   "source": [
    "from selenium import webdriver\n",
    "import time\n",
    "import pandas as pd\n",
    "from ipywidgets import IntProgress\n",
    "from IPython.display import display"
   ]
  },
  {
   "cell_type": "code",
   "execution_count": 49,
   "metadata": {},
   "outputs": [],
   "source": [
    "driver = webdriver.Chrome()\n",
    "driver.get('https://toefl.neea.edu.cn/')"
   ]
  },
  {
   "cell_type": "code",
   "execution_count": 84,
   "metadata": {},
   "outputs": [],
   "source": [
    "citiesList = ['NINGBO','SHANGHAI','SUZHOU','NANJING','TAICANG','HANGZHOU']\n",
    "dateList = ['2020-05-10','2020-05-16','2020-05-24','2020-05-30','2020-06-13','2020-06-14','2020-06-20','2020-07-04','2020-07-05','2020-07-11','2020-08-16','2020-08-16','2020-08-22','2020-08-23','2020-08-23','2020-08-29','2020-08-30']\n",
    "data = []"
   ]
  },
  {
   "cell_type": "code",
   "execution_count": 85,
   "metadata": {},
   "outputs": [
    {
     "name": "stdout",
     "output_type": "stream",
     "text": [
      "NINGBO\n"
     ]
    },
    {
     "data": {
      "application/vnd.jupyter.widget-view+json": {
       "model_id": "a32b1d6951e344e79c7b3b38f6ea14c2",
       "version_major": 2,
       "version_minor": 0
      },
      "text/plain": [
       "IntProgress(value=0, max=17)"
      ]
     },
     "metadata": {},
     "output_type": "display_data"
    },
    {
     "name": "stdout",
     "output_type": "stream",
     "text": [
      "20200510\n",
      "20200516\n",
      "20200524\n",
      "20200530\n",
      "20200613\n",
      "20200614\n",
      "20200620\n",
      "20200704\n",
      "20200705\n",
      "20200711\n",
      "20200822\n",
      "20200823\n",
      "20200823\n",
      "20200829\n",
      "20200830\n",
      "SHANGHAI\n"
     ]
    },
    {
     "data": {
      "application/vnd.jupyter.widget-view+json": {
       "model_id": "7784256a4462418aad7afb5449f2d312",
       "version_major": 2,
       "version_minor": 0
      },
      "text/plain": [
       "IntProgress(value=0, max=17)"
      ]
     },
     "metadata": {},
     "output_type": "display_data"
    },
    {
     "name": "stdout",
     "output_type": "stream",
     "text": [
      "20200510\n",
      "20200516\n",
      "20200524\n",
      "20200530\n",
      "20200613\n",
      "20200614\n",
      "20200620\n",
      "20200704\n",
      "20200705\n",
      "20200711\n",
      "20200816\n",
      "20200816\n",
      "20200822\n",
      "20200823\n",
      "20200823\n",
      "20200829\n",
      "20200830\n",
      "SUZHOU\n"
     ]
    },
    {
     "data": {
      "application/vnd.jupyter.widget-view+json": {
       "model_id": "6e62e51a90874f6e9dc96adafd669cdc",
       "version_major": 2,
       "version_minor": 0
      },
      "text/plain": [
       "IntProgress(value=0, max=17)"
      ]
     },
     "metadata": {},
     "output_type": "display_data"
    },
    {
     "name": "stdout",
     "output_type": "stream",
     "text": [
      "20200510\n",
      "20200516\n",
      "20200524\n",
      "20200530\n",
      "20200613\n",
      "20200614\n",
      "20200620\n",
      "20200704\n",
      "20200705\n",
      "20200711\n",
      "20200816\n",
      "20200816\n",
      "20200822\n",
      "20200823\n",
      "20200823\n",
      "20200829\n",
      "20200830\n",
      "NANJING\n"
     ]
    },
    {
     "data": {
      "application/vnd.jupyter.widget-view+json": {
       "model_id": "e8d587e894074aa48ce35b1d5ac55658",
       "version_major": 2,
       "version_minor": 0
      },
      "text/plain": [
       "IntProgress(value=0, max=17)"
      ]
     },
     "metadata": {},
     "output_type": "display_data"
    },
    {
     "name": "stdout",
     "output_type": "stream",
     "text": [
      "20200510\n",
      "20200516\n",
      "20200524\n",
      "20200530\n",
      "20200613\n",
      "20200614\n",
      "20200620\n",
      "20200704\n",
      "20200711\n",
      "20200816\n",
      "20200816\n",
      "20200822\n",
      "20200823\n",
      "20200823\n",
      "20200829\n",
      "20200830\n",
      "TAICANG\n"
     ]
    },
    {
     "data": {
      "application/vnd.jupyter.widget-view+json": {
       "model_id": "d0b20705fb274b69b389630378c56cd4",
       "version_major": 2,
       "version_minor": 0
      },
      "text/plain": [
       "IntProgress(value=0, max=17)"
      ]
     },
     "metadata": {},
     "output_type": "display_data"
    },
    {
     "name": "stdout",
     "output_type": "stream",
     "text": [
      "20200510\n",
      "20200516\n",
      "20200530\n",
      "20200704\n",
      "20200705\n",
      "20200711\n",
      "20200829\n",
      "20200830\n",
      "HANGZHOU\n"
     ]
    },
    {
     "data": {
      "application/vnd.jupyter.widget-view+json": {
       "model_id": "4c337afe97db46f2afb5b70814201453",
       "version_major": 2,
       "version_minor": 0
      },
      "text/plain": [
       "IntProgress(value=0, max=17)"
      ]
     },
     "metadata": {},
     "output_type": "display_data"
    },
    {
     "name": "stdout",
     "output_type": "stream",
     "text": [
      "20200510\n",
      "20200516\n",
      "20200524\n",
      "20200530\n",
      "20200613\n",
      "20200614\n",
      "20200620\n",
      "20200704\n",
      "20200705\n",
      "20200711\n",
      "20200816\n",
      "20200816\n",
      "20200822\n",
      "20200823\n",
      "20200823\n",
      "20200829\n",
      "20200830\n"
     ]
    }
   ],
   "source": [
    "for city in citiesList:\n",
    "    print(city)\n",
    "    max_count = len(dateList)\n",
    "    f = IntProgress(min=0, max=max_count)\n",
    "    display(f)\n",
    "    for date in dateList:\n",
    "        js = 'return $.getJSON(\"testSeat/queryTestSeats\",{city: \"' + city + '\",testDay: \"' + date + '\"});'\n",
    "        dataJSON = driver.execute_script(js)\n",
    "        date_str = \"\".join(date.split('-'))\n",
    "        if dataJSON['status']==True:\n",
    "            print(date_str)\n",
    "            for info in dataJSON['testSeats']['09:00|'+date_str+'|08:30']:\n",
    "                tmp = []\n",
    "                tmp.append(date)\n",
    "                tmp.append(info['centerCode'])\n",
    "                tmp.append(info['centerNameCn'])\n",
    "                tmp.append(info['seatStatus'])\n",
    "                data.append(tmp)\n",
    "            time.sleep(1)\n",
    "        f.value += 1"
   ]
  },
  {
   "cell_type": "code",
   "execution_count": 87,
   "metadata": {},
   "outputs": [
    {
     "name": "stderr",
     "output_type": "stream",
     "text": [
      "/Users/bondsam/opt/anaconda3/lib/python3.7/site-packages/ipykernel_launcher.py:4: UserWarning: Boolean Series key will be reindexed to match DataFrame index.\n",
      "  after removing the cwd from sys.path.\n"
     ]
    }
   ],
   "source": [
    "seat = pd.DataFrame(data)\n",
    "seat.columns = ['date','centerCode','centerName','seatStatus']\n",
    "seat[seat.seatStatus==1]\n",
    "empty = seat.sort_values(by='date', ascending = True)[seat.seatStatus==1]"
   ]
  },
  {
   "cell_type": "code",
   "execution_count": 90,
   "metadata": {},
   "outputs": [
    {
     "data": {
      "text/html": [
       "<div>\n",
       "<style scoped>\n",
       "    .dataframe tbody tr th:only-of-type {\n",
       "        vertical-align: middle;\n",
       "    }\n",
       "\n",
       "    .dataframe tbody tr th {\n",
       "        vertical-align: top;\n",
       "    }\n",
       "\n",
       "    .dataframe thead th {\n",
       "        text-align: right;\n",
       "    }\n",
       "</style>\n",
       "<table border=\"1\" class=\"dataframe\">\n",
       "  <thead>\n",
       "    <tr style=\"text-align: right;\">\n",
       "      <th></th>\n",
       "      <th>date</th>\n",
       "      <th>centerCode</th>\n",
       "      <th>centerName</th>\n",
       "      <th>seatStatus</th>\n",
       "    </tr>\n",
       "  </thead>\n",
       "  <tbody>\n",
       "    <tr>\n",
       "      <td>26</td>\n",
       "      <td>2020-06-20</td>\n",
       "      <td>STN80059C</td>\n",
       "      <td>宁波大学</td>\n",
       "      <td>1</td>\n",
       "    </tr>\n",
       "    <tr>\n",
       "      <td>27</td>\n",
       "      <td>2020-06-20</td>\n",
       "      <td>STN80059D</td>\n",
       "      <td>宁波大学</td>\n",
       "      <td>1</td>\n",
       "    </tr>\n",
       "    <tr>\n",
       "      <td>29</td>\n",
       "      <td>2020-07-04</td>\n",
       "      <td>STN80059B</td>\n",
       "      <td>宁波大学</td>\n",
       "      <td>1</td>\n",
       "    </tr>\n",
       "    <tr>\n",
       "      <td>744</td>\n",
       "      <td>2020-07-04</td>\n",
       "      <td>STN80149A</td>\n",
       "      <td>浙江工业大学</td>\n",
       "      <td>1</td>\n",
       "    </tr>\n",
       "    <tr>\n",
       "      <td>734</td>\n",
       "      <td>2020-07-04</td>\n",
       "      <td>STN80040F</td>\n",
       "      <td>浙江大学</td>\n",
       "      <td>1</td>\n",
       "    </tr>\n",
       "    <tr>\n",
       "      <td>30</td>\n",
       "      <td>2020-07-04</td>\n",
       "      <td>STN80059C</td>\n",
       "      <td>宁波大学</td>\n",
       "      <td>1</td>\n",
       "    </tr>\n",
       "    <tr>\n",
       "      <td>33</td>\n",
       "      <td>2020-07-05</td>\n",
       "      <td>STN80059B</td>\n",
       "      <td>宁波大学</td>\n",
       "      <td>1</td>\n",
       "    </tr>\n",
       "    <tr>\n",
       "      <td>751</td>\n",
       "      <td>2020-07-05</td>\n",
       "      <td>STN80040F</td>\n",
       "      <td>浙江大学</td>\n",
       "      <td>1</td>\n",
       "    </tr>\n",
       "    <tr>\n",
       "      <td>752</td>\n",
       "      <td>2020-07-05</td>\n",
       "      <td>STN80149A</td>\n",
       "      <td>浙江工业大学</td>\n",
       "      <td>1</td>\n",
       "    </tr>\n",
       "    <tr>\n",
       "      <td>753</td>\n",
       "      <td>2020-07-05</td>\n",
       "      <td>STN80149B</td>\n",
       "      <td>浙江工业大学</td>\n",
       "      <td>1</td>\n",
       "    </tr>\n",
       "    <tr>\n",
       "      <td>32</td>\n",
       "      <td>2020-07-05</td>\n",
       "      <td>STN80059A</td>\n",
       "      <td>宁波大学</td>\n",
       "      <td>1</td>\n",
       "    </tr>\n",
       "    <tr>\n",
       "      <td>438</td>\n",
       "      <td>2020-08-22</td>\n",
       "      <td>STN80050D</td>\n",
       "      <td>苏州大学</td>\n",
       "      <td>1</td>\n",
       "    </tr>\n",
       "    <tr>\n",
       "      <td>437</td>\n",
       "      <td>2020-08-22</td>\n",
       "      <td>STN80050C</td>\n",
       "      <td>苏州大学</td>\n",
       "      <td>1</td>\n",
       "    </tr>\n",
       "    <tr>\n",
       "      <td>41</td>\n",
       "      <td>2020-08-22</td>\n",
       "      <td>STN80059B</td>\n",
       "      <td>宁波大学</td>\n",
       "      <td>1</td>\n",
       "    </tr>\n",
       "    <tr>\n",
       "      <td>42</td>\n",
       "      <td>2020-08-22</td>\n",
       "      <td>STN80059C</td>\n",
       "      <td>宁波大学</td>\n",
       "      <td>1</td>\n",
       "    </tr>\n",
       "    <tr>\n",
       "      <td>786</td>\n",
       "      <td>2020-08-22</td>\n",
       "      <td>STN80149B</td>\n",
       "      <td>浙江工业大学</td>\n",
       "      <td>1</td>\n",
       "    </tr>\n",
       "    <tr>\n",
       "      <td>782</td>\n",
       "      <td>2020-08-22</td>\n",
       "      <td>STN80040D</td>\n",
       "      <td>浙江大学</td>\n",
       "      <td>1</td>\n",
       "    </tr>\n",
       "    <tr>\n",
       "      <td>784</td>\n",
       "      <td>2020-08-22</td>\n",
       "      <td>STN80040F</td>\n",
       "      <td>浙江大学</td>\n",
       "      <td>1</td>\n",
       "    </tr>\n",
       "    <tr>\n",
       "      <td>785</td>\n",
       "      <td>2020-08-22</td>\n",
       "      <td>STN80149A</td>\n",
       "      <td>浙江工业大学</td>\n",
       "      <td>1</td>\n",
       "    </tr>\n",
       "    <tr>\n",
       "      <td>783</td>\n",
       "      <td>2020-08-22</td>\n",
       "      <td>STN80040E</td>\n",
       "      <td>浙江大学</td>\n",
       "      <td>1</td>\n",
       "    </tr>\n",
       "  </tbody>\n",
       "</table>\n",
       "</div>"
      ],
      "text/plain": [
       "           date centerCode centerName  seatStatus\n",
       "26   2020-06-20  STN80059C       宁波大学           1\n",
       "27   2020-06-20  STN80059D       宁波大学           1\n",
       "29   2020-07-04  STN80059B       宁波大学           1\n",
       "744  2020-07-04  STN80149A     浙江工业大学           1\n",
       "734  2020-07-04  STN80040F       浙江大学           1\n",
       "30   2020-07-04  STN80059C       宁波大学           1\n",
       "33   2020-07-05  STN80059B       宁波大学           1\n",
       "751  2020-07-05  STN80040F       浙江大学           1\n",
       "752  2020-07-05  STN80149A     浙江工业大学           1\n",
       "753  2020-07-05  STN80149B     浙江工业大学           1\n",
       "32   2020-07-05  STN80059A       宁波大学           1\n",
       "438  2020-08-22  STN80050D       苏州大学           1\n",
       "437  2020-08-22  STN80050C       苏州大学           1\n",
       "41   2020-08-22  STN80059B       宁波大学           1\n",
       "42   2020-08-22  STN80059C       宁波大学           1\n",
       "786  2020-08-22  STN80149B     浙江工业大学           1\n",
       "782  2020-08-22  STN80040D       浙江大学           1\n",
       "784  2020-08-22  STN80040F       浙江大学           1\n",
       "785  2020-08-22  STN80149A     浙江工业大学           1\n",
       "783  2020-08-22  STN80040E       浙江大学           1"
      ]
     },
     "execution_count": 90,
     "metadata": {},
     "output_type": "execute_result"
    }
   ],
   "source": [
    "empty.head(20)"
   ]
  },
  {
   "cell_type": "code",
   "execution_count": null,
   "metadata": {},
   "outputs": [],
   "source": []
  },
  {
   "cell_type": "code",
   "execution_count": null,
   "metadata": {},
   "outputs": [],
   "source": []
  },
  {
   "cell_type": "code",
   "execution_count": null,
   "metadata": {},
   "outputs": [],
   "source": []
  },
  {
   "cell_type": "code",
   "execution_count": null,
   "metadata": {},
   "outputs": [],
   "source": []
  }
 ],
 "metadata": {
  "kernelspec": {
   "display_name": "Python 3",
   "language": "python",
   "name": "python3"
  },
  "language_info": {
   "codemirror_mode": {
    "name": "ipython",
    "version": 3
   },
   "file_extension": ".py",
   "mimetype": "text/x-python",
   "name": "python",
   "nbconvert_exporter": "python",
   "pygments_lexer": "ipython3",
   "version": "3.7.4"
  }
 },
 "nbformat": 4,
 "nbformat_minor": 2
}
